{
 "cells": [
  {
   "cell_type": "code",
   "execution_count": 1,
   "id": "8c8fe5c6",
   "metadata": {},
   "outputs": [],
   "source": [
    "from classes import RobertaForSequenceClassification2\n",
    "from transformers import RobertaTokenizer, Trainer\n",
    "import torch\n",
    "device = torch.device('cuda' if torch.cuda.is_available() else 'cpu')"
   ]
  },
  {
   "cell_type": "code",
   "execution_count": 2,
   "id": "acd483d0",
   "metadata": {},
   "outputs": [],
   "source": [
    "def load_model(model_path,tokenizer_path):\n",
    "    model = RobertaForSequenceClassification2.from_pretrained(model_path,task_labels_map={\"author\": 4, \"sentiment\": 2})\n",
    "    tokenizer = RobertaTokenizer.from_pretrained(tokenizer_path)\n",
    "    trainer = Trainer(model = model)\n",
    "    return (model, trainer, tokenizer)\n",
    "    \n",
    "def pipeline(text, task):\n",
    "    inputs = tokenizer(text,padding=\"longest\",return_tensors=\"pt\")\n",
    "    inputs[\"input_ids\"] =  inputs[\"input_ids\"].to(device)\n",
    "    inputs[\"attention_mask\"] =  inputs[\"attention_mask\"].to(device)\n",
    "    logits = model(**inputs, task_name=task)[\"logits\"]\n",
    "    probabilities = torch.softmax(logits, dim=1).detach().cpu()\n",
    "    result = torch.argmax(\n",
    "        probabilities,axis=1\n",
    "    )\n",
    "    probability = torch.max(\n",
    "        probabilities,axis=1\n",
    "    )[0]\n",
    "    \n",
    "    return result.item(), probability.item()\n",
    "\n"
   ]
  },
  {
   "cell_type": "code",
   "execution_count": 3,
   "id": "a31a3fe6",
   "metadata": {},
   "outputs": [],
   "source": [
    "model, trainer, tokenizer = load_model(\"models/multihead_classification/model\",\"models/multihead_classification/tokenizer\")"
   ]
  },
  {
   "cell_type": "code",
   "execution_count": 5,
   "id": "7b7dcbdb",
   "metadata": {},
   "outputs": [
    {
     "data": {
      "text/plain": [
       "(0, 0.9991714954376221)"
      ]
     },
     "execution_count": 5,
     "metadata": {},
     "output_type": "execute_result"
    }
   ],
   "source": [
    "pipeline(\"Total dissapointment. I do not understand why would anyone watch this\",\"sentiment\")"
   ]
  },
  {
   "cell_type": "code",
   "execution_count": 7,
   "id": "d6e3ab48",
   "metadata": {},
   "outputs": [],
   "source": [
    "import PySimpleGUI as sg\n",
    "\n",
    "def gui():\n",
    "    sg.theme('DARKBLUE4')\n",
    "    layout = [[sg.Input(key='-IN-')],\n",
    "              [sg.Button('Sentiment', bind_return_key=True)],\n",
    "              [sg.Button('Author', bind_return_key=True)],\n",
    "             [ sg.Text(size=(50,30), key='-OUTPUT-')]]\n",
    "\n",
    "    window = sg.Window('Multihead transformer', layout)\n",
    "    \n",
    "    while True:\n",
    "        event, values = window.read()\n",
    "\n",
    "        if event in  (None, 'Exit'):\n",
    "            break\n",
    "\n",
    "        if event == 'Sentiment':\n",
    "            label, score  = pipeline(values['-IN-'],\"sentiment\")\n",
    "            resultstring = \"Sentiment: \" + str(label) + \", score: \" + str(score)\n",
    "            window['-OUTPUT-'].update(resultstring)\n",
    "            \n",
    "        if event == 'Author':\n",
    "            label, score  = pipeline(values['-IN-'],\"author\")\n",
    "            resultstring = \"Author: \" + str(label) + \", score: \" + str(score)\n",
    "            window['-OUTPUT-'].update(resultstring)\n",
    "            \n",
    "    window.close()"
   ]
  },
  {
   "cell_type": "code",
   "execution_count": 8,
   "id": "78a42233",
   "metadata": {},
   "outputs": [],
   "source": [
    "gui()"
   ]
  }
 ],
 "metadata": {
  "kernelspec": {
   "display_name": "Python 3 (ipykernel)",
   "language": "python",
   "name": "python3"
  },
  "language_info": {
   "codemirror_mode": {
    "name": "ipython",
    "version": 3
   },
   "file_extension": ".py",
   "mimetype": "text/x-python",
   "name": "python",
   "nbconvert_exporter": "python",
   "pygments_lexer": "ipython3",
   "version": "3.8.12"
  }
 },
 "nbformat": 4,
 "nbformat_minor": 5
}

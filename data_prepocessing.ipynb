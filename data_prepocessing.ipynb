{
 "cells": [
  {
   "cell_type": "code",
   "execution_count": 1,
   "id": "271ab93d",
   "metadata": {},
   "outputs": [],
   "source": [
    "from sklearn.model_selection import train_test_split\n",
    "import pandas as pd\n",
    "\n",
    "RANDOM_STATE = 404\n",
    "\n",
    "def process_data(df, prefix):\n",
    "    train, test_validation = train_test_split(df, test_size=0.1, random_state = RANDOM_STATE)\n",
    "    test, validation = train_test_split(test_validation, test_size=0.5, random_state = RANDOM_STATE)\n",
    "    \n",
    "    train.to_pickle(\"data/\" + prefix + \"_train.pkl\")\n",
    "    test.to_pickle(\"data/\" + prefix + \"_test.pkl\")\n",
    "    validation.to_pickle(\"data/\" + prefix + \"_validation.pkl\")"
   ]
  },
  {
   "cell_type": "markdown",
   "id": "a4aa8de8",
   "metadata": {},
   "source": [
    "#### Full datasets"
   ]
  },
  {
   "cell_type": "code",
   "execution_count": 2,
   "id": "a954929b",
   "metadata": {},
   "outputs": [],
   "source": [
    "authors = pd.read_pickle(\"data/authors.pkl\")\n",
    "process_data(authors, \"authors\")"
   ]
  },
  {
   "cell_type": "code",
   "execution_count": 3,
   "id": "008f452e",
   "metadata": {},
   "outputs": [],
   "source": [
    "imdb = pd.read_pickle(\"data/imdb.pkl\")\n",
    "process_data(imdb, \"imdb\")"
   ]
  },
  {
   "cell_type": "markdown",
   "id": "6bb08f53",
   "metadata": {},
   "source": [
    "#### Small datasets"
   ]
  },
  {
   "cell_type": "code",
   "execution_count": 4,
   "id": "edaad06f",
   "metadata": {},
   "outputs": [],
   "source": [
    "authors_small = authors.sample(100, random_state = RANDOM_STATE)\n",
    "process_data(authors_small, \"authors_small\")"
   ]
  },
  {
   "cell_type": "code",
   "execution_count": 5,
   "id": "f16ef80a",
   "metadata": {},
   "outputs": [],
   "source": [
    "imdb_small = imdb.sample(100, random_state = RANDOM_STATE)\n",
    "process_data(imdb_small, \"imdb_small\")"
   ]
  }
 ],
 "metadata": {
  "kernelspec": {
   "display_name": "Python 3 (ipykernel)",
   "language": "python",
   "name": "python3"
  },
  "language_info": {
   "codemirror_mode": {
    "name": "ipython",
    "version": 3
   },
   "file_extension": ".py",
   "mimetype": "text/x-python",
   "name": "python",
   "nbconvert_exporter": "python",
   "pygments_lexer": "ipython3",
   "version": "3.8.12"
  }
 },
 "nbformat": 4,
 "nbformat_minor": 5
}
